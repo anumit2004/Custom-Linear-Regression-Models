{
  "nbformat": 4,
  "nbformat_minor": 0,
  "metadata": {
    "colab": {
      "provenance": [],
      "mount_file_id": "1pyi-7lGkREt6zK25irEflsXgo4QE-kOq",
      "authorship_tag": "ABX9TyO0ILteATE3SXUzMC+umV/C",
      "include_colab_link": true
    },
    "kernelspec": {
      "name": "python3",
      "display_name": "Python 3"
    },
    "language_info": {
      "name": "python"
    }
  },
  "cells": [
    {
      "cell_type": "markdown",
      "metadata": {
        "id": "view-in-github",
        "colab_type": "text"
      },
      "source": [
        "<a href=\"https://colab.research.google.com/github/anumit2004/Supervised-Learning-Models/blob/linear-regression/build_ridge_regression.ipynb\" target=\"_parent\"><img src=\"https://colab.research.google.com/assets/colab-badge.svg\" alt=\"Open In Colab\"/></a>"
      ]
    },
    {
      "cell_type": "markdown",
      "source": [
        "\"This is simple custom Ridge Regression algorithm.\""
      ],
      "metadata": {
        "id": "M1ZOn80w3J9G"
      }
    },
    {
      "cell_type": "markdown",
      "source": [
        "## Ridge Regression\n",
        "\n",
        "**Ridge Regression** is a type of linear regression that includes a regularization term. It is used to prevent overfitting, especially when there is multicollinearity (correlated independent variables) in the data.\n",
        "\n",
        "The standard linear regression minimizes the **Mean Squared Error (MSE)**. Ridge Regression modifies the cost function by adding a **penalty term** proportional to the square of the magnitude of the coefficients:\n",
        "\n",
        "$$\n",
        "J(\\theta) = \\text{MSE}(\\theta) + \\alpha \\sum_{i=1}^{n} \\theta_i^2\n",
        "$$\n",
        "\n",
        "- $\\alpha$ is the regularization parameter (also called lambda).\n",
        "- $\\theta_i$ are the model parameters (weights).\n",
        "- The penalty discourages large values in the weight vector $\\theta$, which helps improve model generalization.\n",
        "\n",
        "### Why Use Ridge Regression?\n",
        "\n",
        "- Reduces model complexity and multicollinearity.\n",
        "- Improves predictions on test data (reduces overfitting).\n",
        "- Suitable when the number of features is large or features are highly correlated.\n",
        "\n",
        "### Mathematical Solution\n",
        "\n",
        "The closed-form solution for Ridge Regression is:\n",
        "\n",
        "$$\n",
        "\\hat{\\theta} = \\left( X^\\top X + \\alpha I \\right)^{-1} X^\\top y\n",
        "$$\n",
        "\n",
        "Here:\n",
        "- \\( X \\) is the feature matrix,\n",
        "- \\( y \\) is the target vector,\n",
        "- \\( I \\) is the identity matrix,\n",
        "- $\\alpha$ controls the strength of regularization.\n"
      ],
      "metadata": {
        "id": "swIehV6S2J6Q"
      }
    },
    {
      "cell_type": "code",
      "execution_count": null,
      "metadata": {
        "id": "07_9kL6uMpIP"
      },
      "outputs": [],
      "source": [
        "import numpy as np\n"
      ]
    },
    {
      "cell_type": "code",
      "source": [
        "class RidgeRegression():\n",
        "\n",
        "  def __init__(self,lr=0.01,lamda_val=0.01,iteration=10000):\n",
        "    self.lr=lr\n",
        "    self.lamda_val=lamda_val\n",
        "    self.iteration=iteration\n",
        "    self.weights=None\n",
        "    self.bias=None\n",
        "\n",
        "  def predict(self,x):\n",
        "    return np.dot(x,self.weights)+self.bias\n",
        "\n",
        "    #for generating the gradient\n",
        "  def gradient_descent(self,x,y):\n",
        "    y_pred=self.predict(x)\n",
        "    err=y_pred-y\n",
        "    dw=(1/self.m)*(np.dot(err,x))+(self.lamda_val*self.weights/self.m)\n",
        "    db=(1/self.m)*np.sum(err)\n",
        "    return dw,db\n",
        "\n",
        "  def fit(self,x,y):\n",
        "    self.m,self.n=x.shape\n",
        "    self.weights=np.zeros(self.n)\n",
        "    self.bias=0\n",
        "    for i in range(self.iteration):\n",
        "      dw,db=self.gradient_descent(x,y)\n",
        "      self.weights=self.weights-self.lr*dw\n",
        "      self.bias=self.bias-self.lr*db\n",
        "    return self.weights,self.bias\n"
      ],
      "metadata": {
        "id": "0QR6fZBvRO85"
      },
      "execution_count": null,
      "outputs": []
    },
    {
      "cell_type": "markdown",
      "source": [
        "Test the code."
      ],
      "metadata": {
        "id": "LeLSIKVeWXr-"
      }
    },
    {
      "cell_type": "code",
      "source": [
        "import pandas as pd"
      ],
      "metadata": {
        "id": "vYfQOn2-WXRS"
      },
      "execution_count": null,
      "outputs": []
    },
    {
      "cell_type": "code",
      "source": [
        "df=pd.read_csv('/content/drive/MyDrive/dataset/salary_data.csv')"
      ],
      "metadata": {
        "id": "cawGnNZ8Wh5Y"
      },
      "execution_count": null,
      "outputs": []
    },
    {
      "cell_type": "code",
      "source": [
        "x=df.iloc[:,0].values.reshape(-1,1)\n",
        "y=df.iloc[:,1].values"
      ],
      "metadata": {
        "id": "K16Lap00XV9D"
      },
      "execution_count": null,
      "outputs": []
    },
    {
      "cell_type": "code",
      "source": [
        "print(x.shape)\n",
        "print(y.shape)"
      ],
      "metadata": {
        "colab": {
          "base_uri": "https://localhost:8080/"
        },
        "id": "uzIFpDXdXec_",
        "outputId": "1cf12f9d-485a-49e3-cd09-db04d28f3edf"
      },
      "execution_count": null,
      "outputs": [
        {
          "output_type": "stream",
          "name": "stdout",
          "text": [
            "(30, 1)\n",
            "(30,)\n"
          ]
        }
      ]
    },
    {
      "cell_type": "markdown",
      "source": [
        "Bringing the model ."
      ],
      "metadata": {
        "id": "WoATm9_bXoaD"
      }
    },
    {
      "cell_type": "code",
      "source": [
        "model=RidgeRegression()\n",
        "weight_final,bias_final=model.fit(x,y)\n",
        "print('weight =',weight_final)\n",
        "print('bias =',bias_final)"
      ],
      "metadata": {
        "colab": {
          "base_uri": "https://localhost:8080/"
        },
        "id": "asa0PVSUXmWC",
        "outputId": "daff7af3-5478-4cd4-9143-d38f14c3b38a"
      },
      "execution_count": null,
      "outputs": [
        {
          "output_type": "stream",
          "name": "stdout",
          "text": [
            "weight = [9449.55772645]\n",
            "bias = 25794.349943570873\n"
          ]
        }
      ]
    },
    {
      "cell_type": "code",
      "source": [
        "import matplotlib.pyplot as plt\n",
        "y_pred=model.predict(x)\n",
        "plt.scatter(x,y)\n",
        "plt.plot(x,y_pred,color='red')\n",
        "plt.xlabel('Years of experience')\n",
        "plt.ylabel('Salary')\n",
        "plt.show()"
      ],
      "metadata": {
        "colab": {
          "base_uri": "https://localhost:8080/",
          "height": 449
        },
        "id": "Xd7E0lHtZOuV",
        "outputId": "124641a5-f92e-46e4-c781-ce0aeefa7eb0"
      },
      "execution_count": null,
      "outputs": [
        {
          "output_type": "display_data",
          "data": {
            "text/plain": [
              "<Figure size 640x480 with 1 Axes>"
            ],
            "image/png": "[encoded data removed]"
          },
          "metadata": {}
        }
      ]
    }
  ]
}