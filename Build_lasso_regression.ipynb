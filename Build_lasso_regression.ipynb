{
  "nbformat": 4,
  "nbformat_minor": 0,
  "metadata": {
    "colab": {
      "provenance": [],
      "mount_file_id": "1u0O92aoHIhPardtbZS1Apa9FNz5Uz_pj",
      "authorship_tag": "ABX9TyMyjp8An7pLD3WOreraSgQD",
      "include_colab_link": true
    },
    "kernelspec": {
      "name": "python3",
      "display_name": "Python 3"
    },
    "language_info": {
      "name": "python"
    }
  },
  "cells": [
    {
      "cell_type": "markdown",
      "metadata": {
        "id": "view-in-github",
        "colab_type": "text"
      },
      "source": [
        "<a href=\"https://colab.research.google.com/github/anumit2004/Custom-Linear-Regression-Models/blob/linear-regression/Build_lasso_regression.ipynb\" target=\"_parent\"><img src=\"https://colab.research.google.com/assets/colab-badge.svg\" alt=\"Open In Colab\"/></a>"
      ]
    },
    {
      "cell_type": "markdown",
      "source": [
        "\"This is a simple custom Lasso Regression algorithm.\""
      ],
      "metadata": {
        "id": "8z5BjCUlwyW0"
      }
    },
    {
      "cell_type": "markdown",
      "source": [
        "# Introduction to Lasso Regression\n",
        "\n",
        "**Lasso Regression** (short for **Least Absolute Shrinkage and Selection Operator**) is a type of linear regression that performs both **variable selection** and **regularization** to enhance prediction accuracy and model interpretability.\n",
        "\n",
        "---\n",
        "\n",
        "## Why Use Lasso?\n",
        "\n",
        "In many real-world datasets, not all features contribute significantly to the prediction. Lasso helps by:\n",
        "\n",
        "- Reducing **overfitting** by penalizing large coefficients.\n",
        "- Performing **feature selection** by shrinking some coefficients exactly to zero.\n",
        "- Improving **model simplicity** and **interpretability**.\n",
        "\n",
        "---\n",
        "\n",
        "## The Lasso Cost Function:\n",
        "\n",
        "The cost function in Lasso Regression is:\n",
        "\n",
        "$$\n",
        "\\text{Minimize } \\left( \\text{Residual Sum of Squares} + \\lambda \\sum_{j=1}^{n} |\\beta_j| \\right)\n",
        "$$\n",
        "\n",
        "Where:\n",
        "\n",
        "- $\\beta_j$ are the model coefficients.\n",
        "- $\\lambda$ is a **tuning parameter** controlling the strength of the penalty.\n",
        "- The penalty term $\\sum_{j=1}^{n} |\\beta_j|$ is the **L1 norm**.\n",
        "\n",
        "\n",
        "\n",
        "---\n",
        "\n",
        "## Difference from Ridge Regression\n",
        "\n",
        "| Feature            | Lasso (L1)                     | Ridge (L2)                      |\n",
        "|--------------------|--------------------------------|---------------------------------|\n",
        "| Regularization     | L1 norm                        | L2 norm                         |\n",
        "| Feature Selection  | Shrinks some coefficients to 0 | Shrinks but doesn’t eliminate   |\n",
        "| Use Case           | Sparse models                  | Multicollinearity               |\n",
        "\n",
        "---\n",
        "All Mathematical Computation :\n",
        "\n",
        "if ($w_j$>0):\n",
        "$$\n",
        "\\frac{dJ}{dw} = -\\frac{2}{m} \\left[ \\sum_{i=1}^{m} x_j \\cdot \\left( y^{(i)} - \\hat{y}^{(i)} \\right) + \\lambda \\right]\n",
        "$$\n",
        "\n",
        "if ($w_j$<0):\n",
        "$$\n",
        "\\frac{dJ}{dw} = -\\frac{2}{m} \\left[ \\sum_{i=1}^{m} x_j \\cdot \\left( y^{(i)} - \\hat{y}^{(i)} \\right) - \\lambda \\right]\n",
        "$$\n",
        "\n",
        "Gradient for Bias:\n",
        "$$\n",
        "\\frac{dJ}{db} = -\\frac{2}{m} \\left[ \\sum_{i=1}^{m} \\left( y^{(i)} - \\hat{y}^{(i)} \\right) \\right]\n",
        "$$\n",
        "\n",
        "\n"
      ],
      "metadata": {
        "id": "U1LyI53ZFts0"
      }
    },
    {
      "cell_type": "code",
      "execution_count": null,
      "metadata": {
        "id": "XOlyzxOgMurM"
      },
      "outputs": [],
      "source": [
        "import numpy as np"
      ]
    },
    {
      "cell_type": "markdown",
      "source": [
        "Developing the lasso class."
      ],
      "metadata": {
        "id": "-vRP7CiReUDp"
      }
    },
    {
      "cell_type": "code",
      "source": [
        "class LassoRegression:\n",
        "\n",
        "  def __init__(self,lr=0.02,epochs=10000,lamda_val=0.01):\n",
        "    self.lr=lr\n",
        "    self.epochs=epochs\n",
        "    self.lamda_val=lamda_val\n",
        "    self.weights=None\n",
        "    self.bias=None\n",
        "\n",
        "  def gradient(self,x,y):\n",
        "    y_pred=self.predict(x)\n",
        "    err=y_pred-y\n",
        "    dj_dw=np.zeros(self.n)\n",
        "    for j in range(self.n):\n",
        "      if(self.weights[j]>0):\n",
        "        dj_dw[j]=(1/self.m)*np.dot(self.x[:,j],err)+(self.lamda_val/self.m)\n",
        "      else:\n",
        "        dj_dw[j]=(1/self.m)*np.dot(self.x[:,j],err)-(self.lamda_val/self.m)\n",
        "\n",
        "    dj_db=(1/self.m)*np.sum(err)\n",
        "\n",
        "    return dj_dw,dj_db\n",
        "\n",
        "  def fit(self,x,y):\n",
        "    self.m,self.n = x.shape\n",
        "    self.weights=np.zeros(self.n)\n",
        "    self.bias=0\n",
        "    self.x=x\n",
        "    self.y=y\n",
        "    for i in range(self.epochs):\n",
        "      dj_dw,dj_db=self.gradient(x,y)\n",
        "      self.weights=self.weights-self.lr*dj_dw\n",
        "      self.bias=self.bias-self.lr*dj_db\n",
        "    return self.weights,self.bias\n",
        "\n",
        "  def predict(self,x):\n",
        "    return np.dot(x,self.weights)+self.bias"
      ],
      "metadata": {
        "id": "K2rp-XuNeOmA"
      },
      "execution_count": null,
      "outputs": []
    },
    {
      "cell_type": "markdown",
      "source": [
        "Test the model."
      ],
      "metadata": {
        "id": "QMgIOjX7mB9B"
      }
    },
    {
      "cell_type": "code",
      "source": [
        "import pandas as pd"
      ],
      "metadata": {
        "id": "nCz34f6KhtX7"
      },
      "execution_count": null,
      "outputs": []
    },
    {
      "cell_type": "code",
      "source": [
        "df=pd.read_csv('/content/drive/MyDrive/dataset/salary_data.csv')"
      ],
      "metadata": {
        "id": "3lxZiLy9q-aB"
      },
      "execution_count": null,
      "outputs": []
    },
    {
      "cell_type": "code",
      "source": [
        "x=df.iloc[:,0].values.reshape(-1,1)\n",
        "y=df.iloc[:,1].values"
      ],
      "metadata": {
        "id": "QfKZhPVurJXR"
      },
      "execution_count": null,
      "outputs": []
    },
    {
      "cell_type": "code",
      "source": [
        "print(x)\n",
        "print(y)"
      ],
      "metadata": {
        "colab": {
          "base_uri": "https://localhost:8080/"
        },
        "id": "-F7woeNsrmqW",
        "outputId": "57471ea5-1159-4cd9-b162-8a0e32286a94"
      },
      "execution_count": null,
      "outputs": [
        {
          "output_type": "stream",
          "name": "stdout",
          "text": [
            "[[ 1.1]\n",
            " [ 1.3]\n",
            " [ 1.5]\n",
            " [ 2. ]\n",
            " [ 2.2]\n",
            " [ 2.9]\n",
            " [ 3. ]\n",
            " [ 3.2]\n",
            " [ 3.2]\n",
            " [ 3.7]\n",
            " [ 3.9]\n",
            " [ 4. ]\n",
            " [ 4. ]\n",
            " [ 4.1]\n",
            " [ 4.5]\n",
            " [ 4.9]\n",
            " [ 5.1]\n",
            " [ 5.3]\n",
            " [ 5.9]\n",
            " [ 6. ]\n",
            " [ 6.8]\n",
            " [ 7.1]\n",
            " [ 7.9]\n",
            " [ 8.2]\n",
            " [ 8.7]\n",
            " [ 9. ]\n",
            " [ 9.5]\n",
            " [ 9.6]\n",
            " [10.3]\n",
            " [10.5]]\n",
            "[ 39343  46205  37731  43525  39891  56642  60150  54445  64445  57189\n",
            "  63218  55794  56957  57081  61111  67938  66029  83088  81363  93940\n",
            "  91738  98273 101302 113812 109431 105582 116969 112635 122391 121872]\n"
          ]
        }
      ]
    },
    {
      "cell_type": "markdown",
      "source": [
        "Now fit the model."
      ],
      "metadata": {
        "id": "K3uSIsuzrSvq"
      }
    },
    {
      "cell_type": "code",
      "source": [
        "model=LassoRegression()"
      ],
      "metadata": {
        "id": "JAaM2kz1rSfC"
      },
      "execution_count": null,
      "outputs": []
    },
    {
      "cell_type": "code",
      "source": [
        "weight_final,bias_final=model.fit(x,y)\n",
        "print('weight =',weight_final)\n",
        "print('bias =',bias_final)"
      ],
      "metadata": {
        "colab": {
          "base_uri": "https://localhost:8080/"
        },
        "id": "sq48K_Eyu3wW",
        "outputId": "fedc3b35-dd10-408c-c885-707385841aec"
      },
      "execution_count": null,
      "outputs": [
        {
          "output_type": "stream",
          "name": "stdout",
          "text": [
            "weight = [9449.96227864]\n",
            "bias = 25792.200426166735\n"
          ]
        }
      ]
    },
    {
      "cell_type": "code",
      "source": [
        "import matplotlib.pyplot as plt\n",
        "plt.scatter(x,y)\n",
        "y_pred=model.predict(x)\n",
        "plt.plot(x,y_pred,color='red')\n",
        "plt.xlabel('experience')\n",
        "plt.ylabel('salary')\n",
        "plt.show()"
      ],
      "metadata": {
        "id": "Ev__1nzD4_5k"
      },
      "execution_count": null,
      "outputs": []
    }
  ]
}